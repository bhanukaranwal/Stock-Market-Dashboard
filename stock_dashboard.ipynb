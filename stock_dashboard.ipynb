#
# Title: Interactive Stock Market Data Dashboard
# Author: [Your Name]
# Date: 2025-07-30
# Description: A comprehensive, interactive stock market dashboard using Alpha Vantage API,
#              Plotly for visualizations, and ipywidgets for user controls.
#

# --- 1. SETUP AND IMPORTS ---
import os
import pandas as pd
import numpy as np
import requests
import sqlite3
import logging
from datetime import datetime, timedelta

# Plotting and UI Libraries
import plotly.graph_objects as go
from plotly.subplots import make_subplots
import ipywidgets as widgets
from IPython.display import display, HTML, clear_output

# Analytics Libraries
from sklearn.linear_model import LinearRegression
from textblob import TextBlob

# Report Generation
from reportlab.pdfgen import canvas
from reportlab.lib.pagesizes import letter
from reportlab.lib.utils import ImageReader

# --- 2. CONFIGURATION AND INITIALIZATION ---

# Setup logging
logging.basicConfig(filename='dashboard.log',
                    level=logging.INFO,
                    format='%(asctime)s - %(levelname)s - %(message)s')
logging.info("Dashboard session started.")

# Load API Key from environment variable
# IMPORTANT: Set this environment variable in your system.
# For example, in your terminal: export ALPHAVANTAGE_API_KEY='YOUR_API_KEY'
API_KEY = os.getenv('ALPHAVANTAGE_API_KEY', 'demo')
if API_KEY == 'demo':
    print("Warning: ALPHAVANTAGE_API_KEY environment variable not found. Using 'demo' key with limitations.")

# Setup SQLite Database for Caching
DB_NAME = 'stocks.db'
conn = sqlite3.connect(DB_NAME)
cursor = conn.cursor()

# Create tables if they don't exist
cursor.execute('''
CREATE TABLE IF NOT EXISTS stock_data (
    symbol TEXT,
    date TEXT,
    open REAL,
    high REAL,
    low REAL,
    close REAL,
    volume INTEGER,
    PRIMARY KEY (symbol, date)
)
''')
conn.commit()
logging.info(f"Connected to SQLite database: {DB_NAME}")


# --- 3. WIDGET DEFINITIONS ---

# Default values
DEFAULT_SYMBOLS = ['AAPL', 'MSFT', 'TSLA', 'AMZN', 'GOOGL', 'SPY', 'BTC-USD']

# --- Control Widgets ---
symbol_selector = widgets.SelectMultiple(
    options=DEFAULT_SYMBOLS,
    value=['AAPL'],
    description='Symbols:',
    disabled=False,
    layout=widgets.Layout(width='auto')
)

custom_symbol_input = widgets.Text(
    value='',
    placeholder='Add custom symbol (e.g., NVDA)',
    description='Custom:',
    disabled=False
)

add_symbol_button = widgets.Button(
    description="Add",
    button_style='info',
    tooltip='Add the custom symbol to the list',
    icon='plus'
)

time_range_slider = widgets.IntSlider(
    value=90, min=7, max=730, step=1,
    description='Days:',
    continuous_update=False,
    layout=widgets.Layout(width='400px')
)

start_date_picker = widgets.DatePicker(
    description='Start Date',
    value=datetime.now().date() - timedelta(days=90),
    disabled=False
)

end_date_picker = widgets.DatePicker(
    description='End Date',
    value=datetime.now().date(),
    disabled=False
)

metric_selector = widgets.SelectMultiple(
    options=['Open', 'High', 'Low', 'Close', 'Volume', 'Adjusted Close'],
    value=['Close'],
    description='Metrics:',
    disabled=False
)

chart_type_selector = widgets.Dropdown(
    options=['Line', 'Candlestick', 'Correlation Heatmap'],
    value='Line',
    description='Chart Type:',
    disabled=False
)

indicator_selector = widgets.SelectMultiple(
    options=['SMA', 'EMA', 'RSI', 'MACD'],
    value=[],
    description='Indicators:',
    disabled=False
)

portfolio_input = widgets.Textarea(
    value='',
    placeholder='e.g., AAPL:100, MSFT:50',
    description='Portfolio:',
    layout=widgets.Layout(width='auto', height='50px')
)

# --- Action Buttons ---
refresh_button = widgets.Button(
    description="Refresh Data",
    button_style='success',
    tooltip='Fetch and display new data based on selections',
    icon='refresh'
)

reset_button = widgets.Button(
    description="Reset",
    button_style='warning',
    tooltip='Reset all controls to their default values',
    icon='history'
)

theme_toggle_button = widgets.ToggleButton(
    value=True,
    description='Dark Mode',
    button_style='primary',
    tooltip='Toggle between dark and light themes',
    icon='moon-o'
)

ai_insights_checkbox = widgets.Checkbox(
    value=False,
    description='Enable AI Insights',
    disabled=False,
    indent=False
)

# --- Export Buttons ---
export_csv_button = widgets.Button(description="Export CSV", icon='download', button_style='info')
export_pdf_button = widgets.Button(description="Export PDF", icon='file-pdf-o', button_style='info')
export_html_button = widgets.Button(description="Export HTML", icon='code', button_style='info')


# --- 4. UI LAYOUT ---

# Organize widgets into logical groups
controls_row1 = widgets.HBox([symbol_selector, custom_symbol_input, add_symbol_button])
controls_row2 = widgets.HBox([time_range_slider, start_date_picker, end_date_picker])
controls_row3 = widgets.HBox([metric_selector, chart_type_selector, indicator_selector])
controls_row4 = widgets.HBox([portfolio_input])

action_buttons = widgets.HBox([
    refresh_button, reset_button, theme_toggle_button, ai_insights_checkbox
])

export_buttons = widgets.HBox([export_csv_button, export_pdf_button, export_html_button])

# Combine all controls into a vertical box
controls = widgets.VBox([
    controls_row1,
    controls_row2,
    controls_row3,
    controls_row4,
    widgets.HTML("<hr>"),
    action_buttons,
    export_buttons
])

# Output widgets for displaying plots, tables, and messages
main_output = widgets.Output()
summary_output = widgets.Output()
error_output = widgets.Output()

# --- 5. CORE LOGIC & PLOTTING FUNCTIONS (Function Stubs) ---

def fetch_stock_data(symbols, start_date, end_date):
    """Fetches stock data from cache or Alpha Vantage API."""
    with main_output:
        print(f"Fetching data for {', '.join(symbols)} from {start_date} to {end_date}...")
    # Placeholder: Implementation to follow
    pass

def calculate_indicators(df, indicators):
    """Calculates selected technical indicators."""
    # Placeholder: Implementation to follow
    pass

def plot_data(df, chart_type, metrics, indicators, theme):
    """Generates and displays the appropriate plot."""
    with main_output:
        clear_output(wait=True)
        print("Generating plot...")
    # Placeholder: Implementation to follow
    pass

def display_summary_stats(df):
    """Displays a summary statistics table."""
    with summary_output:
        clear_output(wait=True)
        print("Calculating summary...")
    # Placeholder: Implementation to follow
    pass

def handle_error(message):
    """Displays an error message in the UI."""
    with error_output:
        clear_output(wait=True)
        display(HTML(f"<div style='background-color: #f2dede; color: #a94442; border: 1px solid #ebccd1; padding: 15px; border-radius: 4px;'><b>Error:</b> {message}</div>"))


# --- 6. EVENT HANDLERS ---

def on_refresh_clicked(b):
    """Event handler for the refresh button."""
    error_output.clear_output()
    symbols = list(symbol_selector.value)
    if not symbols:
        handle_error("Please select at least one stock symbol.")
        return
    
    # Simple validation
    if start_date_picker.value >= end_date_picker.value:
        handle_error("Start date must be before the end date.")
        return
        
    df = fetch_stock_data(symbols, start_date_picker.value, end_date_picker.value)
    # Further processing and plotting will be added here.
    
def on_add_symbol_clicked(b):
    """Adds a custom symbol to the selector."""
    custom_symbol = custom_symbol_input.value.strip().upper()
    if custom_symbol and custom_symbol not in symbol_selector.options:
        new_options = list(symbol_selector.options) + [custom_symbol]
        symbol_selector.options = new_options
        custom_symbol_input.value = '' # Clear input
        logging.info(f"Added custom symbol: {custom_symbol}")

def on_reset_clicked(b):
    """Resets all controls to default values."""
    symbol_selector.value = ['AAPL']
    time_range_slider.value = 90
    start_date_picker.value = datetime.now().date() - timedelta(days=90)
    end_date_picker.value = datetime.now().date()
    metric_selector.value = ['Close']
    chart_type_selector.value = 'Line'
    indicator_selector.value = []
    portfolio_input.value = ''
    ai_insights_checkbox.value = False
    theme_toggle_button.value = True
    main_output.clear_output()
    summary_output.clear_output()
    error_output.clear_output()
    logging.info("Controls reset to default.")

# Link handlers to widgets
refresh_button.on_click(on_refresh_clicked)
add_symbol_button.on_click(on_add_symbol_clicked)
reset_button.on_click(on_reset_clicked)


# --- 7. INITIAL DISPLAY ---

# Apply custom CSS for a more professional look
display(HTML("""
<style>
    .widget-label { font-weight: bold; }
    .widget-button { margin: 0px 5px; }
    .widget-text input { border-radius: 4px; }
    .widget-select select { border-radius: 4px; }
    .widget-textarea textarea { border-radius: 4px; }
</style>
"""))

# Display the dashboard UI
display(HTML("<h1>Stock Market Data Dashboard</h1>"))
display(HTML("<p>A comprehensive tool for financial market analysis.</p>"))
display(controls)
display(error_output)
display(main_output)
display(summary_output)

# Trigger an initial refresh to load default data
on_refresh_clicked(None)

